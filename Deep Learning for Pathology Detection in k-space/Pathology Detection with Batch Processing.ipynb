{
 "cells": [
  {
   "cell_type": "code",
   "execution_count": 1,
   "metadata": {},
   "outputs": [
    {
     "name": "stderr",
     "output_type": "stream",
     "text": [
      "/home/bisp/anaconda3/lib/python3.6/site-packages/h5py/__init__.py:36: FutureWarning: Conversion of the second argument of issubdtype from `float` to `np.floating` is deprecated. In future, it will be treated as `np.float64 == np.dtype(float).type`.\n",
      "  from ._conv import register_converters as _register_converters\n"
     ]
    }
   ],
   "source": [
    "import numpy as np\n",
    "import os\n",
    "import h5py\n",
    "from sklearn.model_selection import train_test_split\n",
    "import matplotlib.pyplot as plt\n",
    "%matplotlib inline"
   ]
  },
  {
   "cell_type": "code",
   "execution_count": 2,
   "metadata": {},
   "outputs": [
    {
     "name": "stderr",
     "output_type": "stream",
     "text": [
      "Using TensorFlow backend.\n"
     ]
    }
   ],
   "source": [
    "from __future__ import print_function\n",
    "import keras\n",
    "from keras.datasets import mnist\n",
    "from keras.models import Sequential\n",
    "from keras.layers import Dense, Dropout, Flatten\n",
    "from keras.layers import Conv2D, MaxPooling2D\n",
    "from keras.callbacks import ModelCheckpoint\n",
    "from keras.models import model_from_json\n",
    "from keras import backend as K"
   ]
  },
  {
   "cell_type": "markdown",
   "metadata": {},
   "source": [
    "# Data Generators"
   ]
  },
  {
   "cell_type": "code",
   "execution_count": 208,
   "metadata": {},
   "outputs": [],
   "source": [
    "class DataGenerator(keras.utils.Sequence):\n",
    "    \n",
    "    def truncate_k_space(self, data):\n",
    "        n = self.x_dims[0]\n",
    "        trunc_data = data[:,int((1-self.sampling_percent)*n//2):\n",
    "                            int((1+self.sampling_percent)*n//2), :]\n",
    "        return trunc_data\n",
    "    \n",
    "    'Generates data for Keras'\n",
    "    def __init__(self, dataset, filename, X_identifier, Y_identifier, \n",
    "                 batch_size, sampling_percent=1, shuffle=True):\n",
    "        super(DataGenerator,self).__init__()\n",
    "        \n",
    "        with h5py.File(filename+'.h5', 'r') as hf:\n",
    "            keys = list(hf.keys())\n",
    "            # Get dimensions of the input space\n",
    "            temp = [i for i in keys if dataset+'_'+X_identifier in i]\n",
    "            x_dims = hf[temp[0]].shape[1::]\n",
    "            num_files = len(temp)\n",
    "            # Get dimensions of the output space\n",
    "            temp = [i for i in keys if dataset+'_'+Y_identifier in i]\n",
    "            y_dims = hf[temp[0]].shape[1::]\n",
    "        \n",
    "        # The batch size\n",
    "        self.batch_size = batch_size\n",
    "        self.num_files = num_files\n",
    "        # Assumes the file ids are always from 0 to num_files\n",
    "        self.file_ids = list(range(num_files))\n",
    "        # Calculate the number of batches\n",
    "        self.num_batches = int(num_files)\n",
    "        \n",
    "        self.filename = filename\n",
    "        self.dataset = dataset \n",
    "        self.X_identifier = X_identifier\n",
    "        self.Y_identifier = Y_identifier\n",
    "        \n",
    "        # Dimensions of the input and the output\n",
    "        self.x_dims = x_dims\n",
    "        self.y_dims = y_dims\n",
    "        self.input_shape = (int(x_dims[0]*sampling_percent),) + x_dims[1:]\n",
    "        \n",
    "        self.sampling_percent = sampling_percent\n",
    "        self.shuffle = shuffle\n",
    "        if shuffle is True: self.on_epoch_end()\n",
    "        \n",
    "    def __len__(self):\n",
    "        \"\"\"Number of batch in the Sequence.\n",
    "        \n",
    "        Returns\n",
    "            The number of batches in the Sequence.\n",
    "        \"\"\"\n",
    "        return self.num_batches\n",
    "\n",
    "    def __getitem__(self, index):\n",
    "        \"\"\"Gets batch at position `index`.\n",
    "        Arguments\n",
    "            index: position of the batch in the Sequence.\n",
    "        Returns\n",
    "            A batch\n",
    "        \"\"\"        \n",
    "        X = np.zeros((self.batch_size,) + self.x_dims)\n",
    "        Y = np.zeros((self.batch_size,) + self.y_dims)\n",
    "        \n",
    "        with h5py.File(self.filename+'.h5', 'r') as hf:\n",
    "            \n",
    "            # Input and output identifiers\n",
    "            x_id = self.dataset + '_' + \\\n",
    "                    self.X_identifier + '_' + str(self.file_ids[index])\n",
    "            y_id = self.dataset + '_' + \\\n",
    "                    self.Y_identifier + '_' + str(self.file_ids[index])\n",
    "                \n",
    "            X = np.asarray(hf[x_id])\n",
    "            Y = np.asarray(hf[y_id]) \n",
    "        \n",
    "        X = self.truncate_k_space(X)\n",
    "        X = np.stack((np.real(X), np.imag(X)), axis=-1)\n",
    "        X = X.astype('float32')\n",
    "        X = X/np.max(X)\n",
    "        X = X.reshape(X.shape)   \n",
    "        # Convert class vectors to binary class matrices. This uses 1 hot encoding.\n",
    "        num_classes = 2\n",
    "        Y = keras.utils.to_categorical(Y, num_classes)\n",
    "        return X, Y\n",
    "    \n",
    "    def on_epoch_end(self):\n",
    "        'Updates indexes after each epoch'\n",
    "        if self.shuffle == True:\n",
    "            np.random.shuffle(self.file_ids)\n",
    "            \n",
    "    def get_data(self, index, identifier, indices):\n",
    "        \n",
    "        with h5py.File(self.filename+'.h5', 'r') as hf:\n",
    "            data_id = self.dataset + '_' + \\\n",
    "                    identifier + '_' + str(self.file_ids[index])\n",
    "            \n",
    "            data = np.asarray(hf[data_id])[indices]\n",
    "        if identifier == 'k_space': data = self.truncate_k_space(data)\n",
    "        return data\n",
    "    \n",
    "    def get_data_all(self, identifier):\n",
    "        data = None\n",
    "        with h5py.File(self.filename+'.h5', 'r') as hf:\n",
    "            for file_id in range(self.num_files):\n",
    "                data_id = self.dataset + '_' + \\\n",
    "                    identifier + '_' + str(file_id)\n",
    "                \n",
    "                if data is None: data = np.asarray(hf[data_id])\n",
    "                else: data = np.vstack((data, np.asarray(hf[data_id])))\n",
    "        if identifier == 'k_space': data = self.truncate_k_space(data)\n",
    "        return data"
   ]
  },
  {
   "cell_type": "code",
   "execution_count": 190,
   "metadata": {},
   "outputs": [],
   "source": [
    "dataset = 'test'\n",
    "filename = 'datasets//data_tumor_TEST_batch'\n",
    "X_identifier = 'k_space'\n",
    "Y_identifier = 'label'\n",
    "batch_size = 32\n",
    "sampling_percent = 0.0625\n",
    "shuffle = False\n",
    "example_generator = DataGenerator(dataset, filename, \n",
    "                                  X_identifier, Y_identifier, \n",
    "                                  batch_size, sampling_percent,\n",
    "                                  shuffle)"
   ]
  },
  {
   "cell_type": "code",
   "execution_count": 191,
   "metadata": {},
   "outputs": [
    {
     "name": "stdout",
     "output_type": "stream",
     "text": [
      "(8, 128)\n",
      "(4, 8, 128)\n"
     ]
    }
   ],
   "source": [
    "print(example_generator.input_shape)\n",
    "print(example_generator.get_data(0,'k_space',[1,2,3,4]).shape)"
   ]
  },
  {
   "cell_type": "markdown",
   "metadata": {},
   "source": [
    "# Create generators "
   ]
  },
  {
   "cell_type": "code",
   "execution_count": 245,
   "metadata": {},
   "outputs": [],
   "source": [
    "def get_model_memory_usage(batch_size, model):\n",
    "    import numpy as np\n",
    "    from keras import backend as K\n",
    "\n",
    "    shapes_mem_count = 0\n",
    "    for l in model.layers:\n",
    "        single_layer_mem = 1\n",
    "        for s in l.output_shape:\n",
    "            if s is None:\n",
    "                continue\n",
    "            single_layer_mem *= s\n",
    "        shapes_mem_count += single_layer_mem\n",
    "\n",
    "    trainable_count = np.sum([K.count_params(p) for p in set(model.trainable_weights)])\n",
    "    non_trainable_count = np.sum([K.count_params(p) for p in set(model.non_trainable_weights)])\n",
    "\n",
    "    total_memory = 4.0*batch_size*(shapes_mem_count + trainable_count + non_trainable_count)\n",
    "    gbytes = np.round(total_memory / (1024.0 ** 3), 3)\n",
    "    return gbytes"
   ]
  },
  {
   "cell_type": "markdown",
   "metadata": {},
   "source": [
    "Create the generators"
   ]
  },
  {
   "cell_type": "code",
   "execution_count": 264,
   "metadata": {},
   "outputs": [
    {
     "name": "stdout",
     "output_type": "stream",
     "text": [
      "Input shape:  (128, 128, 2)\n"
     ]
    }
   ],
   "source": [
    "name = 'data_tumor_size5_large'\n",
    "# Sampling percents\n",
    "# 128 = 1, 64 = 0.5, 32 = 0.25, 16 = 0.125, \n",
    "# 8 = 0.0625, 4 = 0.03125, 2 = 0.015625\n",
    "sampling_percent = 1#0.0625\n",
    "# Generators\n",
    "filename = 'datasets//' + name\n",
    "X_identifier = 'k_space'\n",
    "Y_identifier = 'label'\n",
    "batch_size = 32\n",
    "training_generator = DataGenerator('train', filename, \n",
    "                                   X_identifier, Y_identifier, \n",
    "                                   batch_size, sampling_percent, False)\n",
    "validation_generator = DataGenerator('validation', filename, \n",
    "                                     X_identifier, Y_identifier, \n",
    "                                     batch_size, sampling_percent, False)\n",
    "\n",
    "input_shape = training_generator.input_shape + (2,)\n",
    "num_classes = 2\n",
    "print('Input shape: ', input_shape)"
   ]
  },
  {
   "cell_type": "markdown",
   "metadata": {},
   "source": [
    "# Select Model"
   ]
  },
  {
   "cell_type": "markdown",
   "metadata": {},
   "source": [
    "2x2 kernels"
   ]
  },
  {
   "cell_type": "code",
   "execution_count": null,
   "metadata": {},
   "outputs": [],
   "source": [
    "model = Sequential()\n",
    "model.add(Conv2D(32, kernel_size=(2, 2),\n",
    "                 activation='relu',\n",
    "                 padding = 'same',\n",
    "                 input_shape=input_shape))\n",
    "model.add(Conv2D(64, (2, 2), padding = 'same', activation='relu'))\n",
    "model.add(MaxPooling2D(pool_size=(2, 2)))\n",
    "model.add(Dropout(0.5))\n",
    "\n",
    "model.add(Flatten())\n",
    "model.add(Dense(64, activation='relu'))\n",
    "model.add(Dropout(0.5))\n",
    "model.add(Dense(num_classes, activation='softmax'))\n",
    "\n",
    "model.compile(loss=keras.losses.categorical_crossentropy,\n",
    "              optimizer=keras.optimizers.Adadelta(),\n",
    "              metrics=['accuracy'])"
   ]
  },
  {
   "cell_type": "markdown",
   "metadata": {},
   "source": [
    "Standard CNN with 3x3 models"
   ]
  },
  {
   "cell_type": "code",
   "execution_count": 265,
   "metadata": {},
   "outputs": [
    {
     "name": "stderr",
     "output_type": "stream",
     "text": [
      "/home/bisp/anaconda3/lib/python3.6/site-packages/tensorflow/python/framework/tensor_util.py:477: DeprecationWarning: The binary mode of fromstring is deprecated, as it behaves surprisingly on unicode inputs. Use frombuffer instead\n",
      "  return np.fromstring(tensor.tensor_content, dtype=dtype).reshape(shape)\n"
     ]
    }
   ],
   "source": [
    "model = Sequential()\n",
    "model.add(Conv2D(32, kernel_size=(3, 3),\n",
    "                 activation='relu',\n",
    "                 padding = 'same',\n",
    "                 input_shape=input_shape))\n",
    "model.add(Conv2D(64, (3, 3), padding = 'same', activation='relu'))\n",
    "model.add(MaxPooling2D(pool_size=(2, 2)))\n",
    "model.add(Dropout(0.5))\n",
    "\n",
    "model.add(Flatten())\n",
    "model.add(Dense(64, activation='relu'))\n",
    "model.add(Dropout(0.5))\n",
    "model.add(Dense(num_classes, activation='softmax'))\n",
    "\n",
    "model.compile(loss=keras.losses.categorical_crossentropy,\n",
    "              optimizer=keras.optimizers.Adadelta(),\n",
    "              metrics=['accuracy'])"
   ]
  },
  {
   "cell_type": "markdown",
   "metadata": {},
   "source": [
    "DNN to be used when the input space is not wide enough to apply a kernel."
   ]
  },
  {
   "cell_type": "code",
   "execution_count": null,
   "metadata": {},
   "outputs": [],
   "source": [
    "model = Sequential()\n",
    "model.add(Flatten(input_shape=input_shape))\n",
    "model.add(Dense(128, activation='relu'))\n",
    "model.add(Dense(128, activation='relu'))\n",
    "model.add(Dense(num_classes, activation='softmax'))\n",
    "\n",
    "model.compile(loss=keras.losses.categorical_crossentropy,\n",
    "              optimizer=keras.optimizers.Adadelta(),\n",
    "              metrics=['accuracy'])"
   ]
  },
  {
   "cell_type": "markdown",
   "metadata": {},
   "source": [
    "Provides a summary of the model used."
   ]
  },
  {
   "cell_type": "code",
   "execution_count": 266,
   "metadata": {
    "scrolled": false
   },
   "outputs": [
    {
     "name": "stdout",
     "output_type": "stream",
     "text": [
      "_________________________________________________________________\n",
      "Layer (type)                 Output Shape              Param #   \n",
      "=================================================================\n",
      "conv2d_37 (Conv2D)           (None, 128, 128, 32)      608       \n",
      "_________________________________________________________________\n",
      "conv2d_38 (Conv2D)           (None, 128, 128, 64)      18496     \n",
      "_________________________________________________________________\n",
      "max_pooling2d_18 (MaxPooling (None, 64, 64, 64)        0         \n",
      "_________________________________________________________________\n",
      "dropout_35 (Dropout)         (None, 64, 64, 64)        0         \n",
      "_________________________________________________________________\n",
      "flatten_18 (Flatten)         (None, 262144)            0         \n",
      "_________________________________________________________________\n",
      "dense_35 (Dense)             (None, 64)                16777280  \n",
      "_________________________________________________________________\n",
      "dropout_36 (Dropout)         (None, 64)                0         \n",
      "_________________________________________________________________\n",
      "dense_36 (Dense)             (None, 2)                 130       \n",
      "=================================================================\n",
      "Total params: 16,796,514\n",
      "Trainable params: 16,796,514\n",
      "Non-trainable params: 0\n",
      "_________________________________________________________________\n"
     ]
    }
   ],
   "source": [
    "model.summary()"
   ]
  },
  {
   "cell_type": "markdown",
   "metadata": {},
   "source": [
    "Get the memory usage of the model."
   ]
  },
  {
   "cell_type": "code",
   "execution_count": 267,
   "metadata": {},
   "outputs": [
    {
     "data": {
      "text/plain": [
       "2.284"
      ]
     },
     "execution_count": 267,
     "metadata": {},
     "output_type": "execute_result"
    }
   ],
   "source": [
    "get_model_memory_usage(32, model)"
   ]
  },
  {
   "cell_type": "markdown",
   "metadata": {},
   "source": [
    "Fit the model"
   ]
  },
  {
   "cell_type": "code",
   "execution_count": null,
   "metadata": {},
   "outputs": [
    {
     "name": "stderr",
     "output_type": "stream",
     "text": [
      "/home/bisp/anaconda3/lib/python3.6/site-packages/tensorflow/python/framework/tensor_util.py:477: DeprecationWarning: The binary mode of fromstring is deprecated, as it behaves surprisingly on unicode inputs. Use frombuffer instead\n",
      "  return np.fromstring(tensor.tensor_content, dtype=dtype).reshape(shape)\n"
     ]
    },
    {
     "name": "stdout",
     "output_type": "stream",
     "text": [
      "Epoch 1/100\n",
      "1795/1797 [============================>.] - ETA: 0s - loss: 0.6353 - acc: 0.6242Epoch 00001: val_acc improved from -inf to 0.72700, saving model to weights//data_tumor_size5_large//weights-improvement-01-0.73.hdf5\n",
      "1797/1797 [==============================] - 86s 48ms/step - loss: 0.6352 - acc: 0.6242 - val_loss: 0.5426 - val_acc: 0.7270\n",
      "Epoch 2/100\n",
      "1796/1797 [============================>.] - ETA: 0s - loss: 0.5233 - acc: 0.7368Epoch 00002: val_acc improved from 0.72700 to 0.76176, saving model to weights//data_tumor_size5_large//weights-improvement-02-0.76.hdf5\n",
      "1797/1797 [==============================] - 88s 49ms/step - loss: 0.5232 - acc: 0.7369 - val_loss: 0.4775 - val_acc: 0.7618\n",
      "Epoch 3/100\n",
      "1796/1797 [============================>.] - ETA: 0s - loss: 0.4768 - acc: 0.7703Epoch 00003: val_acc improved from 0.76176 to 0.78945, saving model to weights//data_tumor_size5_large//weights-improvement-03-0.79.hdf5\n",
      "1797/1797 [==============================] - 562s 313ms/step - loss: 0.4769 - acc: 0.7703 - val_loss: 0.4387 - val_acc: 0.7895\n",
      "Epoch 4/100\n",
      "1373/1797 [=====================>........] - ETA: 2:16 - loss: 0.4535 - acc: 0.7831"
     ]
    }
   ],
   "source": [
    "if not os.path.exists('weights//'+name):\n",
    "    os.makedirs('weights//'+name)\n",
    "\n",
    "# Save the model\n",
    "model_json = model.to_json()\n",
    "with open('weights//' + name + '//' + name + '_model.json', \"w\") as json_file:\n",
    "    json_file.write(model_json)\n",
    "\n",
    "# Save the weights using a checkpoint.\n",
    "filepath='weights//' + name + '//weights-improvement-{epoch:02d}-{val_acc:.2f}.hdf5'\n",
    "checkpoint = ModelCheckpoint(filepath, monitor='val_acc', verbose=1, save_best_only=True, mode='max')\n",
    "callbacks_list = [checkpoint]\n",
    "\n",
    "epochs = 100\n",
    "# Fit the model weights.\n",
    "history = model.fit_generator(generator=training_generator,\n",
    "                              steps_per_epoch=training_generator.num_batches,\n",
    "                              epochs=epochs,\n",
    "                              verbose=1,\n",
    "                              callbacks=callbacks_list,\n",
    "                              validation_data=validation_generator,\n",
    "                              validation_steps=validation_generator.num_batches)"
   ]
  },
  {
   "cell_type": "markdown",
   "metadata": {},
   "source": [
    "# Analyze results"
   ]
  },
  {
   "cell_type": "markdown",
   "metadata": {},
   "source": [
    "Plot the loss and accuracy training history of the model."
   ]
  },
  {
   "cell_type": "code",
   "execution_count": 252,
   "metadata": {
    "scrolled": false
   },
   "outputs": [
    {
     "data": {
      "image/png": "[encoded data removed]",
      "text/plain": [
       "<matplotlib.figure.Figure at 0x7fceb8cd2860>"
      ]
     },
     "metadata": {},
     "output_type": "display_data"
    }
   ],
   "source": [
    "plt.figure(figsize=(8,10))\n",
    "plt.subplot(2,1,1)\n",
    "\n",
    "# summarize history for accuracy\n",
    "plt.plot(history.history['acc'])\n",
    "plt.plot(history.history['val_acc'])\n",
    "plt.title('model accuracy')\n",
    "plt.ylabel('accuracy')\n",
    "plt.xlabel('epoch')\n",
    "plt.legend(['train', 'validation'], loc='lower right')\n",
    "\n",
    "plt.subplot(2,1,2)\n",
    "# summarize history for loss\n",
    "plt.plot(history.history['loss'])\n",
    "plt.plot(history.history['val_loss'])\n",
    "plt.title('model loss')\n",
    "plt.ylabel('loss')\n",
    "plt.xlabel('epoch')\n",
    "plt.legend(['train', 'validation'], loc='upper right')\n",
    "plt.show()"
   ]
  },
  {
   "cell_type": "code",
   "execution_count": 253,
   "metadata": {},
   "outputs": [],
   "source": [
    "model.load_weights('weights//' + name + '/weights-improvement-93-0.80.hdf5')"
   ]
  },
  {
   "cell_type": "code",
   "execution_count": 254,
   "metadata": {},
   "outputs": [],
   "source": [
    "# utility function for showing images\n",
    "def show_imgs_mri(x_test, pred_label, true_label, n=4, rotate=False):\n",
    "    plt.figure(figsize=(20, 12))\n",
    "    num_img = x_test.shape[0]\n",
    "    num_rows = 1 + num_img//n\n",
    "    ix = 1\n",
    "    for i in range(num_img):\n",
    "        ax = plt.subplot(num_rows, n, ix)\n",
    "        if rotate == True:\n",
    "            temp = x_test[i].reshape(x_test.shape[1::])\n",
    "            temp = np.rot90(temp)\n",
    "            plt.imshow(temp)\n",
    "        else:\n",
    "            plt.imshow(x_test[i].reshape(x_test.shape[1::]))\n",
    "        plt.title('Predicted: ' + str(pred_label[ix-1]) + '   True: ' + str(true_label[ix-1]))\n",
    "        plt.gray()\n",
    "        ax.get_xaxis().set_visible(False)\n",
    "        ax.get_yaxis().set_visible(False)\n",
    "        if ix == num_img: break\n",
    "        ix += 1\n",
    "\n",
    "    plt.show()"
   ]
  },
  {
   "cell_type": "markdown",
   "metadata": {},
   "source": [
    "Randomly select some images in the validation set and show the label that the model predicts."
   ]
  },
  {
   "cell_type": "code",
   "execution_count": 257,
   "metadata": {},
   "outputs": [
    {
     "name": "stdout",
     "output_type": "stream",
     "text": [
      "4/4 [==============================] - 0s 593us/step\n",
      "Predicted:  [0 1 0 0]\n",
      "Labels:    [[0 1 0 0]]\n"
     ]
    }
   ],
   "source": [
    "# Create a generator for the validation dataset\n",
    "filename = 'datasets//' + name\n",
    "X_identifier = 'k_space'\n",
    "Y_identifier = 'label'\n",
    "batch_size = 32\n",
    "validation_generator = DataGenerator('validation', filename, \n",
    "                                     X_identifier, Y_identifier, \n",
    "                                     batch_size, sampling_percent, False)\n",
    "# Extract a batch\n",
    "batch_ix = 0\n",
    "X, Y = validation_generator.__getitem__(batch_ix)\n",
    "\n",
    "# Randomly select 4 indices\n",
    "ixs = [np.random.randint(0, X.shape[0]) for i in range(4)]\n",
    "input_data = X[ixs]\n",
    "# Get the associated image and label for the selected indices\n",
    "labels = validation_generator.get_data(batch_ix, 'label', ixs)\n",
    "images = validation_generator.get_data(batch_ix, 'image', ixs)\n",
    "k_space = validation_generator.get_data(batch_ix, 'k_space', ixs)\n",
    "\n",
    "# Predict the classes of the selected indices\n",
    "predicted = model.predict_classes(input_data)\n",
    "print('Predicted: ', predicted)\n",
    "print('Labels:   ', labels.T)"
   ]
  },
  {
   "cell_type": "markdown",
   "metadata": {},
   "source": [
    "Show the k-space and image space data for the selected instances."
   ]
  },
  {
   "cell_type": "code",
   "execution_count": 258,
   "metadata": {
    "scrolled": false
   },
   "outputs": [
    {
     "data": {
      "image/png": "[encoded data removed]",
      "text/plain": [
       "<matplotlib.figure.Figure at 0x7fceb8a11048>"
      ]
     },
     "metadata": {},
     "output_type": "display_data"
    },
    {
     "data": {
      "image/png": "[encoded data removed]",
      "text/plain": [
       "<matplotlib.figure.Figure at 0x7fceb89cbc88>"
      ]
     },
     "metadata": {},
     "output_type": "display_data"
    }
   ],
   "source": [
    "show_imgs_mri(np.log(np.abs(k_space)), predicted, labels, n=4)\n",
    "show_imgs_mri(np.abs(images), predicted, labels, n=4, rotate = True)"
   ]
  },
  {
   "cell_type": "markdown",
   "metadata": {},
   "source": [
    "# Get scores applying model to the training, validation and testing sets"
   ]
  },
  {
   "cell_type": "markdown",
   "metadata": {},
   "source": [
    "Score contains the loss and the resulting accuracy"
   ]
  },
  {
   "cell_type": "code",
   "execution_count": 259,
   "metadata": {},
   "outputs": [],
   "source": [
    "# Generators\n",
    "filename = 'datasets//' + name\n",
    "X_identifier = 'k_space'\n",
    "Y_identifier = 'label'\n",
    "batch_size = 32\n",
    "training_generator = DataGenerator('train', filename, \n",
    "                                   X_identifier, Y_identifier, \n",
    "                                   batch_size, sampling_percent, False)\n",
    "validation_generator = DataGenerator('validation', filename, \n",
    "                                     X_identifier, Y_identifier, \n",
    "                                     batch_size, sampling_percent, False)\n",
    "test_generator = DataGenerator('test', filename, \n",
    "                               X_identifier, Y_identifier, \n",
    "                               batch_size, sampling_percent, False)\n",
    "\n",
    "datasets = ['Training', 'Validation', 'Testing']\n",
    "generators = [training_generator, validation_generator, test_generator]"
   ]
  },
  {
   "cell_type": "code",
   "execution_count": 260,
   "metadata": {},
   "outputs": [
    {
     "name": "stdout",
     "output_type": "stream",
     "text": [
      "Training set: [0.37641807544578537, 0.8264265831593598]\n",
      "Validation set: [0.4226198788370764, 0.7979957805907173]\n",
      "Testing set: [0.4212123060177383, 0.7987139917695473]\n"
     ]
    }
   ],
   "source": [
    "for d, gen in zip(datasets, generators):\n",
    "    score = model.evaluate_generator(gen, gen.num_batches)\n",
    "    print(d + ' set: ' + str(score))"
   ]
  },
  {
   "cell_type": "markdown",
   "metadata": {},
   "source": [
    "Get the true positive, false positive, true negative and false negative rates using confusion matrix."
   ]
  },
  {
   "cell_type": "code",
   "execution_count": 261,
   "metadata": {},
   "outputs": [
    {
     "name": "stdout",
     "output_type": "stream",
     "text": [
      "18960/18960 [==============================] - 1s 66us/step\n",
      "[[69.68827836 30.31172164]\n",
      " [ 5.65575206 94.34424794]]\n"
     ]
    },
    {
     "data": {
      "image/png": "[encoded data removed]",
      "text/plain": [
       "<matplotlib.figure.Figure at 0x7fceb8a8b518>"
      ]
     },
     "metadata": {},
     "output_type": "display_data"
    }
   ],
   "source": [
    "from sklearn.metrics import confusion_matrix\n",
    "\n",
    "image = validation_generator.get_data_all('image')\n",
    "k_space = validation_generator.get_data_all('k_space')\n",
    "labels = validation_generator.get_data_all('label') \n",
    "\n",
    "X = np.stack((np.real(k_space), np.imag(k_space)), axis=-1)\n",
    "X = X.astype('float32')\n",
    "X = X/np.max(X)\n",
    "\n",
    "y_hat = model.predict_classes(X, batch_size=32)\n",
    "\n",
    "conf = confusion_matrix(labels, y_hat)\n",
    "conf = (conf*100/np.sum(conf, axis=0)).T\n",
    "\n",
    "print(conf)\n",
    "plt.imshow(conf)\n",
    "plt.show()"
   ]
  },
  {
   "cell_type": "code",
   "execution_count": 262,
   "metadata": {},
   "outputs": [
    {
     "name": "stdout",
     "output_type": "stream",
     "text": [
      "19440/19440 [==============================] - 1s 67us/step\n",
      "[[68.79099583 31.20900417]\n",
      " [ 5.14608234 94.85391766]]\n"
     ]
    },
    {
     "data": {
      "image/png": "[encoded data removed]",
      "text/plain": [
       "<matplotlib.figure.Figure at 0x7fceb89fa4e0>"
      ]
     },
     "metadata": {},
     "output_type": "display_data"
    }
   ],
   "source": [
    "image = test_generator.get_data_all('image')\n",
    "k_space = test_generator.get_data_all('k_space')\n",
    "labels = test_generator.get_data_all('label')\n",
    "\n",
    "X = np.stack((np.real(k_space), np.imag(k_space)), axis=-1)\n",
    "X = X.astype('float32')\n",
    "X = X/np.max(X)  \n",
    "\n",
    "y_hat = model.predict_classes(X, batch_size=32)\n",
    "\n",
    "conf = confusion_matrix(labels, y_hat)\n",
    "conf = (conf*100/np.sum(conf, axis=0)).T\n",
    "\n",
    "print(conf)\n",
    "plt.imshow(conf)\n",
    "plt.show()"
   ]
  },
  {
   "cell_type": "code",
   "execution_count": 207,
   "metadata": {},
   "outputs": [
    {
     "name": "stdout",
     "output_type": "stream",
     "text": [
      "(19920, 1)\n",
      "(19920,)\n"
     ]
    }
   ],
   "source": [
    "print(labels.shape)\n",
    "print(y_hat.shape)"
   ]
  },
  {
   "cell_type": "markdown",
   "metadata": {},
   "source": [
    "# Get the images"
   ]
  },
  {
   "cell_type": "markdown",
   "metadata": {},
   "source": [
    "Place images into files to access the FN, FP, TP and TNs."
   ]
  },
  {
   "cell_type": "code",
   "execution_count": 110,
   "metadata": {},
   "outputs": [],
   "source": [
    "from tqdm import tqdm_notebook as tqdm\n",
    "import imageio\n",
    "import warnings\n",
    "import shutil"
   ]
  },
  {
   "cell_type": "code",
   "execution_count": 112,
   "metadata": {},
   "outputs": [
    {
     "name": "stdout",
     "output_type": "stream",
     "text": [
      "Creating file structure...\n",
      "\n",
      "Predicting classes...\n",
      "\n",
      "Saving images...\n"
     ]
    },
    {
     "data": {
      "application/vnd.jupyter.widget-view+json": {
       "model_id": "0cd9865e014a4d9bbfc5319f14e49598",
       "version_major": 2,
       "version_minor": 0
      },
      "text/html": [
       "<p>Failed to display Jupyter Widget of type <code>HBox</code>.</p>\n",
       "<p>\n",
       "  If you're reading this message in the Jupyter Notebook or JupyterLab Notebook, it may mean\n",
       "  that the widgets JavaScript is still loading. If this message persists, it\n",
       "  likely means that the widgets JavaScript library is either not installed or\n",
       "  not enabled. See the <a href=\"https://ipywidgets.readthedocs.io/en/stable/user_install.html\">Jupyter\n",
       "  Widgets Documentation</a> for setup instructions.\n",
       "</p>\n",
       "<p>\n",
       "  If you're reading this message in another frontend (for example, a static\n",
       "  rendering on GitHub or <a href=\"https://nbviewer.jupyter.org/\">NBViewer</a>),\n",
       "  it may mean that your frontend doesn't currently support widgets.\n",
       "</p>\n"
      ],
      "text/plain": [
       "HBox(children=(IntProgress(value=0, max=4920), HTML(value='')))"
      ]
     },
     "metadata": {},
     "output_type": "display_data"
    },
    {
     "name": "stdout",
     "output_type": "stream",
     "text": [
      "\n"
     ]
    }
   ],
   "source": [
    "warnings.filterwarnings('ignore')\n",
    "\n",
    "# Create the file structure which will containt the images\n",
    "print('Creating file structure...')\n",
    "if os.path.exists('images//'+name):\n",
    "    shutil.rmtree('images//'+name)\n",
    "os.makedirs('images//'+name)\n",
    "os.makedirs('images//'+name+'//FP')\n",
    "os.makedirs('images//'+name+'//FN')\n",
    "os.makedirs('images//'+name+'//TP')\n",
    "os.makedirs('images//'+name+'//TN')\n",
    "\n",
    "# Predict the classes using the model\n",
    "print('\\nPredicting classes...')\n",
    "truth = labels.reshape(len(labels),)\n",
    "\n",
    "print('\\nSaving images...')\n",
    "for ix, i in enumerate(zip(tqdm(truth), y_hat)):\n",
    "    files = {'FN': 'images//'+name+'//FN//', \n",
    "             'FP': 'images//'+name+'//FP//',\n",
    "             'TP': 'images//'+name+'//TP//',\n",
    "             'TN': 'images//'+name+'//TN//'}\n",
    "\n",
    "    if i == (1,0): file = files['FN']   # False negative\n",
    "    elif i == (0,1): file = files['FP'] # False positive\n",
    "    elif i == (0,0): file = files['TN'] # True negative\n",
    "    elif i == (1,1): file = files['TP'] # True positive\n",
    "        \n",
    "    imageio.imwrite(file + str(ix) + '.jpg', \n",
    "                        np.rot90(np.abs(image[ix])))\n",
    "\n",
    "warnings.resetwarnings()"
   ]
  },
  {
   "cell_type": "code",
   "execution_count": null,
   "metadata": {},
   "outputs": [],
   "source": []
  }
 ],
 "metadata": {
  "kernelspec": {
   "display_name": "Python 3",
   "language": "python",
   "name": "python3"
  },
  "language_info": {
   "codemirror_mode": {
    "name": "ipython",
    "version": 3
   },
   "file_extension": ".py",
   "mimetype": "text/x-python",
   "name": "python",
   "nbconvert_exporter": "python",
   "pygments_lexer": "ipython3",
   "version": "3.6.4"
  }
 },
 "nbformat": 4,
 "nbformat_minor": 2
}
